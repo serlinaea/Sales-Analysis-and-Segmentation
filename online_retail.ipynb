{
 "cells": [
  {
   "cell_type": "code",
   "execution_count": 323,
   "id": "ca07ba69-c341-4f09-b5d9-93a3c3c208bf",
   "metadata": {},
   "outputs": [],
   "source": [
    "import pandas as pd\n",
    "import numpy as np\n",
    "from sklearn.cluster import KMeans\n",
    "from sklearn.preprocessing import StandardScaler\n",
    "from matplotlib.ticker import FuncFormatter\n",
    "import matplotlib.pyplot as plt\n",
    "import seaborn as sns\n",
    "import calendar"
   ]
  },
  {
   "cell_type": "markdown",
   "id": "e6825a56-54e8-476f-ae2f-98ea7317d820",
   "metadata": {},
   "source": [
    "## Data Loading "
   ]
  },
  {
   "cell_type": "code",
   "execution_count": null,
   "id": "43a9f2a5-5d28-47bf-87ba-2431fdf2cdeb",
   "metadata": {},
   "outputs": [],
   "source": [
    "df = pd.read_excel(\"Online Retail.xlsx\")\n",
    "print(\"Number of rows in the dataset: \", df.shape[0])\n",
    "print(\"Number of columns in the dataset: \", df.shape[1])"
   ]
  },
  {
   "cell_type": "code",
   "execution_count": null,
   "id": "5ae6c46b-ee32-47b8-8dad-17aa3c4eb535",
   "metadata": {},
   "outputs": [],
   "source": [
    "df.head()"
   ]
  },
  {
   "cell_type": "markdown",
   "id": "8609407f-27c1-460f-b6f5-f88de39b1553",
   "metadata": {},
   "source": [
    "## Data Inspection & Data Cleaning"
   ]
  },
  {
   "cell_type": "code",
   "execution_count": null,
   "id": "8b46c0ca-787a-4027-858a-7727d0f29039",
   "metadata": {},
   "outputs": [],
   "source": [
    "df.info()"
   ]
  },
  {
   "cell_type": "code",
   "execution_count": null,
   "id": "dd54500c-3adb-4a82-be82-35d1fe96018e",
   "metadata": {},
   "outputs": [],
   "source": [
    "df.describe()"
   ]
  },
  {
   "cell_type": "code",
   "execution_count": null,
   "id": "426f2bfd-7e40-4903-ace9-ea6b062cd48e",
   "metadata": {},
   "outputs": [],
   "source": [
    "cancelled = df[df['InvoiceNo'].astype(str).str.startswith('C')]\n",
    "negative_price = df[df['UnitPrice'] < 0]\n",
    "negative_quantity = df[df['Quantity'] < 0]\n",
    "print(\"Number of cancelled orders: \", cancelled.shape[0])\n",
    "print(\"Number of orders with price corrections: \", negative_price.shape[0])\n",
    "print(\"Number of rows with negative 'Quantity': \", negative_quantity.shape[0])"
   ]
  },
  {
   "cell_type": "markdown",
   "id": "b4cf22e0-30ea-403d-a50f-5956bacbbec1",
   "metadata": {},
   "source": [
    "The dataset contains negative values for both Quantity and UnitPrice. Negative values for Quantity likely represent canceled orders, which we can identify by checking if InvoiceNo starts with the letter 'C'. These transactions are separated into a new dataframe for deeper insights, such as analyzing patterns in cancellations, frequent reasons, or products that are often returned.\n",
    "\n",
    "Negative values for UnitPrice might indicate corrections or anomalies in pricing, which could distort the analysis. These entries have been removed to ensure the integrity and accuracy of our findings, as retaining them could bias metrics like average sales or trends."
   ]
  },
  {
   "cell_type": "code",
   "execution_count": null,
   "id": "9bd9e851-f06a-4c64-8506-a30c549a1db8",
   "metadata": {},
   "outputs": [],
   "source": [
    "df = df[(df['Quantity'] > 0) & (df['UnitPrice'] > 0)]"
   ]
  },
  {
   "cell_type": "markdown",
   "id": "a501fbc8-0fe7-4c9b-80d2-6ccd2c7554ac",
   "metadata": {},
   "source": [
    "Lastly, we check for the number of duplicated orders and remove any missing values. "
   ]
  },
  {
   "cell_type": "code",
   "execution_count": null,
   "id": "1fbc77c8-a262-4e87-a105-99995f264210",
   "metadata": {},
   "outputs": [],
   "source": [
    "print(\"Number of duplicated orders:\", len(df[df.duplicated()]))"
   ]
  },
  {
   "cell_type": "code",
   "execution_count": null,
   "id": "572824fa-7c44-4bf8-8c51-411854af536a",
   "metadata": {},
   "outputs": [],
   "source": [
    "df.drop_duplicates(inplace = True)\n",
    "df = df.dropna()"
   ]
  },
  {
   "cell_type": "code",
   "execution_count": null,
   "id": "a1afa9fa-19cc-46f5-9444-a62114237fa4",
   "metadata": {},
   "outputs": [],
   "source": [
    "print(\"Number of rows in the dataset: \", df.shape[0])"
   ]
  },
  {
   "cell_type": "code",
   "execution_count": null,
   "id": "82a10f84-d450-42f4-bcf2-2fcb5ba578e6",
   "metadata": {},
   "outputs": [],
   "source": [
    "df.isnull().sum()"
   ]
  },
  {
   "cell_type": "markdown",
   "id": "5d6df567-625c-4b6b-b142-794aeedadf6c",
   "metadata": {},
   "source": [
    "## Feature Engineering"
   ]
  },
  {
   "cell_type": "code",
   "execution_count": null,
   "id": "782ef590-a8a5-4fff-b0db-391bbe2a5282",
   "metadata": {},
   "outputs": [],
   "source": [
    "df['InvoiceDate'] = pd.to_datetime(df['InvoiceDate'])"
   ]
  },
  {
   "cell_type": "markdown",
   "id": "fc78aeb1-e268-46c7-b5d3-4e501f41b09f",
   "metadata": {},
   "source": [
    "#### Calculating Total Sales"
   ]
  },
  {
   "cell_type": "code",
   "execution_count": null,
   "id": "ce082e7f-30fc-46ce-82f6-62c7fd064f39",
   "metadata": {},
   "outputs": [],
   "source": [
    "df['TotalSales'] = df['Quantity'] * df['UnitPrice']"
   ]
  },
  {
   "cell_type": "markdown",
   "id": "08bdc5f1-9dc4-4feb-a030-dce30d1ea067",
   "metadata": {},
   "source": [
    "#### Adding Hour, Day, Month, and Year Features "
   ]
  },
  {
   "cell_type": "code",
   "execution_count": null,
   "id": "e65f24c4-0472-4d04-8335-2a192f2857b7",
   "metadata": {},
   "outputs": [],
   "source": [
    "df['Hour'] = df['InvoiceDate'].dt.hour\n",
    "df['Day'] = df['InvoiceDate'].dt.day_name()\n",
    "df['InvoiceMonth'] = df['InvoiceDate'].dt.month\n",
    "df['InvoiceYear']  = df['InvoiceDate'].dt.year\n",
    "df.head(5)"
   ]
  },
  {
   "cell_type": "markdown",
   "id": "36752927-0e89-412c-a95b-5fd1ae74f3c1",
   "metadata": {},
   "source": [
    "## Product Analysis"
   ]
  },
  {
   "cell_type": "markdown",
   "id": "416fbf45-0125-4def-ba35-5cefea700121",
   "metadata": {},
   "source": [
    "### Monthly Sales Trend"
   ]
  },
  {
   "cell_type": "code",
   "execution_count": null,
   "id": "b28bdf33-e594-4857-bebf-029d34a4c223",
   "metadata": {},
   "outputs": [],
   "source": [
    "def most_purchased(month):\n",
    "    monthly_data = df[df['InvoiceMonth'] == month]\n",
    "    top_product = (monthly_data.groupby('Description')['Quantity']\n",
    "                   .sum().sort_values(ascending=False).idxmax())\n",
    "    return top_product\n",
    "\n",
    "monthly_sales = df.groupby('InvoiceMonth')['TotalSales'].sum().reset_index()\n",
    "monthly_sales['MonthName'] = monthly_sales['InvoiceMonth'].apply(lambda x: calendar.month_name[x])\n",
    "monthly_sales['MostPurchasedProduct'] = monthly_sales['InvoiceMonth'].apply(most_purchased)\n",
    "monthly_sales"
   ]
  },
  {
   "cell_type": "code",
   "execution_count": null,
   "id": "322d0527-da20-482e-b0e4-a5355d4c4579",
   "metadata": {},
   "outputs": [],
   "source": [
    "sns.set_theme(style=\"whitegrid\", context=\"talk\")\n",
    "custom_palette = [\"#2A9D8F\", \"#E9C46A\", \"#F4A261\"]"
   ]
  },
  {
   "cell_type": "code",
   "execution_count": null,
   "id": "5df41016-449a-4239-a5ae-ad56c43e0462",
   "metadata": {},
   "outputs": [],
   "source": [
    "def format_y_axis(value, tick_number):\n",
    "    return f'{int(value):,}'\n",
    "\n",
    "fig, ax = plt.subplots(figsize=(12, 6))\n",
    "\n",
    "ax.bar(\n",
    "    monthly_sales['MonthName'],\n",
    "    monthly_sales['TotalSales'],\n",
    "    color=custom_palette[0],  \n",
    "    edgecolor='black',\n",
    "    width=0.8\n",
    ")\n",
    "\n",
    "ax.set_title('Monthly Sales Trend', fontsize=16, pad=15)\n",
    "ax.set_xlabel('Month', fontsize=12)\n",
    "ax.set_ylabel('Total Sales (in USD)', fontsize=12)\n",
    "ax.tick_params(axis='x', labelrotation=45, labelsize=10)\n",
    "ax.tick_params(axis='y', labelsize=10)\n",
    "\n",
    "ax.yaxis.set_major_formatter(FuncFormatter(format_y_axis))\n",
    "ax.grid(False)\n",
    "\n",
    "ax.grid(axis='y', linestyle='--', alpha=0.7)\n",
    "\n",
    "for spine in ax.spines.values():\n",
    "    spine.set_visible(True)\n",
    "    spine.set_edgecolor('lightgrey')\n",
    "    spine.set_linewidth(1.5)\n",
    "\n",
    "plt.tight_layout()\n",
    "\n",
    "plt.show()"
   ]
  },
  {
   "cell_type": "markdown",
   "id": "de23d485-4e5a-420b-a67d-5be126d6417a",
   "metadata": {},
   "source": [
    "### Top 10 Products in 2010"
   ]
  },
  {
   "cell_type": "code",
   "execution_count": null,
   "id": "37ece1db",
   "metadata": {},
   "outputs": [],
   "source": [
    "top_2010_products = df[df['InvoiceYear'] == 2010]\n",
    "top_products_2010 = (\n",
    "    top_2010_products.groupby('Description')['Quantity'].sum()\n",
    "    .nlargest(10)\n",
    "    .reset_index()\n",
    ")\n",
    "\n",
    "top_2010_months = []\n",
    "for product in top_products_2010['Description']:\n",
    "    product_data = top_2010_products[top_2010_products['Description'] == product]\n",
    "    top_month = (\n",
    "        product_data.groupby('InvoiceMonth')['Quantity'].sum()\n",
    "        .idxmax()\n",
    "    )\n",
    "    top_2010_months.append(calendar.month_name[top_month])\n",
    "\n",
    "top_products_2010['MostPurchasedMonth'] = top_2010_months\n",
    "top_products_2010"
   ]
  },
  {
   "cell_type": "code",
   "execution_count": null,
   "id": "67f49383-d034-4588-94b6-09304330c48f",
   "metadata": {},
   "outputs": [],
   "source": [
    "fig, ax = plt.subplots(figsize=(14, 6))\n",
    "\n",
    "ax.bar(\n",
    "    top_products_2010['Description'],\n",
    "    top_products_2010['Quantity'],\n",
    "    color=custom_palette[2],  \n",
    "    edgecolor='black',\n",
    "    width=0.8\n",
    ")\n",
    "\n",
    "ax.set_title('Top 10 Products by Quantity Sold in 2010', fontsize=16, pad=15)\n",
    "ax.set_xlabel('Product Description', fontsize=12)\n",
    "ax.set_ylabel('Quantity Sold', fontsize=12)\n",
    "ax.tick_params(axis='x', labelrotation=45, labelsize=10, direction='out')\n",
    "ax.tick_params(axis='y', labelsize=10)\n",
    "\n",
    "ax.grid(False)\n",
    "\n",
    "for spine in ax.spines.values():\n",
    "    spine.set_visible(True)\n",
    "    spine.set_edgecolor('lightgrey')\n",
    "    spine.set_linewidth(1.5)\n",
    "\n",
    "plt.tight_layout()\n",
    "\n",
    "plt.show()"
   ]
  },
  {
   "cell_type": "markdown",
   "id": "c155f5d3-978f-4fed-a603-ae97f91d6625",
   "metadata": {},
   "source": [
    "### Top 10 Products in 2011"
   ]
  },
  {
   "cell_type": "code",
   "execution_count": null,
   "id": "d224b4ae-2fb3-464c-b2cf-a0d69d886814",
   "metadata": {},
   "outputs": [],
   "source": [
    "top_2011_products = df[df['InvoiceYear'] == 2011]\n",
    "top_products_2011 = (\n",
    "    top_2011_products.groupby('Description')['Quantity'].sum()\n",
    "    .nlargest(10)\n",
    "    .reset_index()\n",
    ")\n",
    "\n",
    "top_2011_months = []\n",
    "for product in top_products_2011['Description']:\n",
    "    product_data = top_2011_products[top_2011_products['Description'] == product]\n",
    "    top_month = (\n",
    "        product_data.groupby('InvoiceMonth')['Quantity'].sum()\n",
    "        .idxmax()\n",
    "    )\n",
    "    top_2011_months.append(calendar.month_name[top_month])\n",
    "\n",
    "top_products_2011['MostPurchasedMonth'] = top_2011_months\n",
    "top_products_2011"
   ]
  },
  {
   "cell_type": "code",
   "execution_count": null,
   "id": "0ac7140a-2dc8-472e-9cd3-f23a5e9cf8c3",
   "metadata": {},
   "outputs": [],
   "source": [
    "fig, ax = plt.subplots(figsize=(14, 6))\n",
    "\n",
    "ax.bar(\n",
    "    top_products_2011['Description'],\n",
    "    top_products_2011['Quantity'],\n",
    "    color=custom_palette[1],  \n",
    "    edgecolor='black',\n",
    "    width=0.8\n",
    ")\n",
    "\n",
    "ax.set_title('Top 10 Products by Quantity Sold in 2011', fontsize=16, pad=15)\n",
    "ax.set_xlabel('Product Description', fontsize=12)\n",
    "ax.set_ylabel('Quantity Sold', fontsize=12)\n",
    "ax.tick_params(axis='x', labelrotation=45, labelsize=10)\n",
    "ax.tick_params(axis='y', labelsize=10)\n",
    "\n",
    "ax.grid(False)\n",
    "\n",
    "plt.tight_layout()\n",
    "\n",
    "plt.show()"
   ]
  },
  {
   "cell_type": "markdown",
   "id": "b37b48bb-e8a0-4800-ac51-0e404f758cfd",
   "metadata": {},
   "source": [
    "## Customer Segmentation with K-means Clustering"
   ]
  },
  {
   "cell_type": "markdown",
   "id": "9c69223a-246b-41be-8c5d-71e60ba75d19",
   "metadata": {},
   "source": [
    "### RFM (Recency, Frequency, Monetary) Metrics "
   ]
  },
  {
   "cell_type": "code",
   "execution_count": null,
   "id": "c99c71d8-71d1-4d94-b249-63d77361c353",
   "metadata": {},
   "outputs": [],
   "source": [
    "rfm = df.groupby('CustomerID').agg({\n",
    "    'InvoiceDate': lambda x: (pd.Timestamp.now() - x.max()).days,  \n",
    "    'InvoiceNo': 'count',                                         \n",
    "    'TotalSales': 'sum'                                          \n",
    "}).rename(columns={\n",
    "    'InvoiceDate': 'Recency',\n",
    "    'InvoiceNo': 'Frequency',\n",
    "    'TotalSales': 'Monetary'\n",
    "})"
   ]
  },
  {
   "cell_type": "markdown",
   "id": "4916e70c-100a-49d0-ad93-172c74aa4cc3",
   "metadata": {},
   "source": [
    "### Data Normalization"
   ]
  },
  {
   "cell_type": "code",
   "execution_count": null,
   "id": "171f7864-65f8-4720-9cd8-475d853e4e52",
   "metadata": {},
   "outputs": [],
   "source": [
    "scaler = StandardScaler()\n",
    "rfm_normalized = scaler.fit_transform(rfm)"
   ]
  },
  {
   "cell_type": "markdown",
   "id": "88eb9ed0-87ee-4b73-82ca-f9445c88c9d4",
   "metadata": {},
   "source": [
    "### Calculating the optimal number of clusters"
   ]
  },
  {
   "cell_type": "code",
   "execution_count": null,
   "id": "38d431a2-a352-49e3-8019-fd27f51ac30e",
   "metadata": {},
   "outputs": [],
   "source": [
    "inertia = []\n",
    "K = range(1, 11)\n",
    "for k in K:\n",
    "    kmeans = KMeans(n_clusters=k, random_state=42)\n",
    "    kmeans.fit(rfm_normalized)\n",
    "    inertia.append(kmeans.inertia_)"
   ]
  },
  {
   "cell_type": "code",
   "execution_count": null,
   "id": "3263e02f-23c4-42ff-9a83-3aa5701bebf6",
   "metadata": {},
   "outputs": [],
   "source": [
    "fig, ax = plt.subplots(figsize=(8, 5))\n",
    "\n",
    "ax.plot(K, inertia, marker='x', linestyle='-', color=custom_palette[0], linewidth=2, markersize=8)\n",
    "ax.set_title('Elbow Plot for Optimal K', fontsize=16, pad=15)\n",
    "ax.set_xlabel('Number of Clusters', fontsize=12)\n",
    "ax.set_ylabel('Inertia', fontsize=12)\n",
    "\n",
    "ax.grid(False)\n",
    "\n",
    "plt.show()"
   ]
  },
  {
   "cell_type": "markdown",
   "id": "8e7769c4-85a8-4667-8076-9a24eadd566f",
   "metadata": {},
   "source": [
    "Based on the plot above, the optimal number of clusters is K = 4, where the reduction in inertia slows down noticeably after that point."
   ]
  },
  {
   "cell_type": "code",
   "execution_count": null,
   "id": "9c2dbd46-e6f4-4d4b-9cfb-01cb39067472",
   "metadata": {},
   "outputs": [],
   "source": [
    "optimal_k = 4 \n",
    "kmeans = KMeans(n_clusters=optimal_k, random_state=42)\n",
    "rfm['Cluster'] = kmeans.fit_predict(rfm_normalized)"
   ]
  },
  {
   "cell_type": "markdown",
   "id": "14269043-05b5-469b-956c-72413beba0b9",
   "metadata": {},
   "source": [
    "### Cluster Analysis"
   ]
  },
  {
   "cell_type": "code",
   "execution_count": null,
   "id": "191486e4-33da-4eb8-8704-61523ed10ec0",
   "metadata": {},
   "outputs": [],
   "source": [
    "var = ['Monetary', 'Frequency', 'Recency']\n",
    "fig, ax = plt.subplots(figsize=(15, 5))\n",
    "\n",
    "centroids.plot(\n",
    "    kind='bar',\n",
    "    ax=ax,\n",
    "    color=custom_palette,\n",
    "    width=0.8\n",
    ")\n",
    "\n",
    "ax.grid(False)\n",
    "\n",
    "ax.set_title('Cluster Centroids', fontsize=16, pad=15)\n",
    "ax.set_ylabel('Centroid Value', fontsize=12)\n",
    "ax.set_xlabel('Cluster', fontsize=12)\n",
    "\n",
    "ax.set_xticklabels(centroids.index, rotation=0)\n",
    "\n",
    "for spine in ax.spines.values():\n",
    "    spine.set_visible(True)  \n",
    "    spine.set_edgecolor('lightgrey')  \n",
    "    spine.set_linewidth(1.5)  \n",
    "\n",
    "legend = ax.legend(\n",
    "    title='Metrics',\n",
    "    loc='upper left',\n",
    "    fontsize=10,\n",
    "    title_fontsize=12\n",
    ")\n",
    "\n",
    "plt.tight_layout()\n",
    "\n",
    "plt.show()"
   ]
  },
  {
   "cell_type": "code",
   "execution_count": null,
   "id": "a45086e8-2bcd-4189-9529-01c1f04b37d9",
   "metadata": {},
   "outputs": [],
   "source": [
    "print(rfm['Cluster'].value_counts())"
   ]
  },
  {
   "cell_type": "markdown",
   "id": "1a7ff49d-4905-4510-bb31-647f38f4ab07",
   "metadata": {},
   "source": [
    "### Key Observations of Customer Segmentation"
   ]
  },
  {
   "cell_type": "markdown",
   "id": "870121f3-ecb1-4d44-85a1-b049dcd4bd18",
   "metadata": {},
   "source": [
    "**Cluster 0**: \n",
    " - Typically below average per‐customer spending, since the cluster centroid for Monetary is below zero.\n",
    " - Frequency and Recency is around the overall mean.\n",
    " - These customers spend a bit less than average per purchase but buy with about average frequency and recency. In raw (non‐standardized) terms, Cluster 0’s totals may appear large simply because it contains the most customers, but at an individual level, spending is somewhat modest.\n",
    "\n",
    "**Cluster 1**: \n",
    " - Monetary value is above average compared to other clusters .\n",
    " - Frequency and recency is lower than average.\n",
    " - This segment tends to spend more per transaction than the mean, but they do not buy as frequently or as recently as other groups. They may be higher‐ticket shoppers who purchase infrequently.\n",
    "\n",
    "**Cluster 2**: \n",
    " - Has a very high centroid for Frequency and moderate recency.\n",
    " - Monetary value is below average.\n",
    " - On a per‐customer basis, these buyers place many orders (high Frequency), but each order is typically for a lower amount (below‐average Monetary). In the raw charts, this cluster has relatively small totals (e.g., total Monetary) because the group itself is small (only 7 customers). Individually, though, they are very active purchasers.\n",
    " \n",
    "**Cluster 3**: \n",
    " - A moderate or modest Monetary value relative to the mean.\n",
    " - A lower Frequency centroid compared to Cluster 2 but higher than average compared to Clusters 0 and 1.\n",
    " - A high Recency, suggesting these are very recent purchasers on average.\n",
    " - These customers buy fairly often and very recently, with spending levels around the overall mean. Though their total Recency contribution in raw terms is not huge (due to smaller cluster size), their per‐customer recency is among the highest."
   ]
  },
  {
   "cell_type": "markdown",
   "id": "938bf41f-59a3-436c-a74b-59fb44644e52",
   "metadata": {},
   "source": [
    "### Suggestions for Targeted Strategies"
   ]
  }
 ],
 "metadata": {
  "kernelspec": {
   "display_name": "Python [conda env:base] *",
   "language": "python",
   "name": "conda-base-py"
  },
  "language_info": {
   "codemirror_mode": {
    "name": "ipython",
    "version": 3
   },
   "file_extension": ".py",
   "mimetype": "text/x-python",
   "name": "python",
   "nbconvert_exporter": "python",
   "pygments_lexer": "ipython3",
   "version": "3.12.7"
  }
 },
 "nbformat": 4,
 "nbformat_minor": 5
}
